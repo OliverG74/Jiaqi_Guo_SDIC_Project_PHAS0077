{
 "cells": [
  {
   "cell_type": "code",
   "execution_count": 4,
   "metadata": {},
   "outputs": [],
   "source": [
    "import pandas as pd\n",
    "import numpy as np\n",
    "from matplotlib import pyplot as plt\n",
    "from dateutil.parser import parse\n",
    "from datetime import datetime\n",
    "import math\n",
    "from sklearn.metrics import mean_squared_error\n",
    "\n",
    "from statsmodels.tsa.seasonal import seasonal_decompose\n",
    "from statsmodels.tsa.stattools import adfuller\n",
    "\n",
    "import tensorflow as tf\n",
    "\n",
    "from tensorflow.keras.models import Sequential\n",
    "from tensorflow.keras.layers import Dense\n",
    "from tensorflow.keras.layers import LSTM\n",
    "from tensorflow.keras.layers import Dropout\n",
    "\n",
    "from sklearn.preprocessing import MinMaxScaler\n",
    "import keras_tuner\n",
    "import os\n",
    "import tensorflow.keras as keras\n",
    "from sklearn.model_selection import GridSearchCV"
   ]
  },
  {
   "cell_type": "markdown",
   "metadata": {},
   "source": [
    "**---Data Preparation---**"
   ]
  },
  {
   "cell_type": "code",
   "execution_count": 5,
   "metadata": {},
   "outputs": [],
   "source": [
    "# load all the data we need in the model\n",
    "oil_data = pd.read_csv('WTI crude oil futures.csv',thousands=',')\n",
    "# transform the str type of data into datetime type\n",
    "oil_data['Date'] = pd.to_datetime(oil_data['Date'].apply(lambda x:parse(x).strftime('%Y-%m-%d')))\n",
    "oil_data = oil_data.set_index('Date').sort_index()\n",
    "# transform data type\n",
    "oil_data = oil_data.astype(float)\n",
    "df_close = oil_data[['Close']]"
   ]
  },
  {
   "cell_type": "code",
   "execution_count": 6,
   "metadata": {},
   "outputs": [],
   "source": [
    "# split training and testing set by 70% and 30%\n",
    "training_size = int(len(df_close) * 0.7)\n",
    "test_size = len(df_close) - training_size\n",
    "train_data = df_close.iloc[0:training_size,:]\n",
    "test_data = df_close.iloc[training_size:,:]\n",
    "\n",
    "# apply MinMaxScaler to scale the time series into range of 0-1\n",
    "scaler = MinMaxScaler(feature_range = (0,1))\n",
    "train_data_scale = scaler.fit_transform(train_data)\n",
    "train_data_scale = pd.DataFrame(train_data_scale,index = train_data.index,columns = ['Close'])\n",
    "test_data_scale = scaler.transform(test_data)\n",
    "test_data_scale = pd.DataFrame(test_data_scale,index = test_data.index,columns = ['Close'])"
   ]
  },
  {
   "cell_type": "code",
   "execution_count": 7,
   "metadata": {},
   "outputs": [],
   "source": [
    "# create a function that transform the data to the structure for LSTM to learn\n",
    "def dataset_create(data, timestep):\n",
    "    data_X, data_Y = [], []\n",
    "    for i in range(len(data) - timestep - 1):\n",
    "        data_X.append(data.iloc[i:(i+timestep),0])\n",
    "        data_Y.append(data.iloc[i+timestep,0])\n",
    "    return np.array(data_X), np.array(data_Y)"
   ]
  },
  {
   "cell_type": "code",
   "execution_count": 8,
   "metadata": {},
   "outputs": [],
   "source": [
    "# set a fixed time step parameter as 50\n",
    "timestep = 50\n",
    "X_train, Y_train = dataset_create(train_data_scale, timestep)\n",
    "X_test, Y_test = dataset_create(test_data_scale, timestep)"
   ]
  },
  {
   "cell_type": "code",
   "execution_count": 9,
   "metadata": {},
   "outputs": [
    {
     "data": {
      "text/plain": [
       "(1239, 50, 1)"
      ]
     },
     "execution_count": 9,
     "metadata": {},
     "output_type": "execute_result"
    }
   ],
   "source": [
    "X_train = X_train.reshape(X_train.shape[0],X_train.shape[1],1)\n",
    "X_test = X_test.reshape(X_test.shape[0],X_test.shape[1],1)\n",
    "X_train.shape"
   ]
  },
  {
   "cell_type": "code",
   "execution_count": 60,
   "metadata": {
    "scrolled": true
   },
   "outputs": [
    {
     "name": "stdout",
     "output_type": "stream",
     "text": [
      "Trial 10 Complete [00h 11m 44s]\n",
      "mae: 0.017183398827910423\n",
      "\n",
      "Best mae So Far: 0.01692015677690506\n",
      "Total elapsed time: 01h 31m 04s\n",
      "INFO:tensorflow:Oracle triggered exit\n"
     ]
    }
   ],
   "source": [
    "def build_model(hp):\n",
    "    model = keras.Sequential()\n",
    "    # set the list of units to be 32~256 with step of 8\n",
    "    model.add(keras.layers.LSTM(units=hp.Int('units',min_value=32,\n",
    "                                        max_value=248,\n",
    "                                        step=8), \n",
    "                       activation='relu', input_shape=X_train.shape[-2:]))\n",
    "    model.add(keras.layers.Dense(1))\n",
    "    \n",
    "    # set the list of learning rate to be 3 options as below\n",
    "    model.compile(loss='mae', optimizer=keras.optimizers.Adam(\n",
    "            hp.Choice('learning_rate',\n",
    "                      values=[1e-2, 1e-3, 1e-4])),\n",
    "                   metrics=['mae'])\n",
    "    return model\n",
    "\n",
    "# define model\n",
    "bayesian_opt_tuner = keras_tuner.BayesianOptimization(\n",
    "    build_model,\n",
    "    objective='mae',\n",
    "    max_trials=10,\n",
    "    executions_per_trial=1,\n",
    "    directory=os.path.normpath('C:/Users/OliverG/Desktop/FYP/uni_var_tuner_result'),\n",
    "    project_name='uni_var_WTI',\n",
    "    overwrite=True)\n",
    "\n",
    "# set epochs and batch size as fixed parameter due to lack of computing power\n",
    "EPOCHS = 100\n",
    "batch_size = 32\n",
    "bayesian_opt_tuner.search(X_train, Y_train,\n",
    "             epochs=EPOCHS,\n",
    "             validation_data = (X_test,Y_test),\n",
    "             validation_steps=len(X_test)//batch_size,\n",
    "             steps_per_epoch=len(X_train)//batch_size,\n",
    "             validation_split=0.2,verbose=1)\n",
    "            "
   ]
  },
  {
   "cell_type": "code",
   "execution_count": 1,
   "metadata": {},
   "outputs": [],
   "source": [
    "import json"
   ]
  },
  {
   "cell_type": "code",
   "execution_count": null,
   "metadata": {
    "scrolled": true
   },
   "outputs": [],
   "source": [
    "perf_dict = {}\n",
    "\n",
    "# load all the trial history of Bayesian Optimizer\n",
    "trials = bayesian_opt_tuner.oracle.trials\n",
    "for i in range(10):\n",
    "    trial_id = ''\n",
    "    if i < 10:\n",
    "        trial_id = '0'+str(i)\n",
    "    else:\n",
    "        trial_id = str(i)\n",
    "    directory = r'C:\\Users\\OliverG\\Desktop\\FYP\\uni_var_tuner_result\\uni_var_WTI\\trial_'+trial_id+r'\\trial.json'\n",
    "    f = open(directory)\n",
    "    trial_dict = json.load(f)\n",
    "    perf_sum = trial_dict['hyperparameters']['values']\n",
    "    print(str(perf_sum['units'])+' '+str(perf_sum['learning_rate']))\n",
    "    trial_model = bayesian_opt_tuner.load_model(trials[trial_id])\n",
    "    train_predict = trial_model.predict(X_train)\n",
    "    test_predict = trial_model.predict(X_test)\n",
    "    \n",
    "    # inverse the scaled predicting result to calculate RMSE\n",
    "    train_predict = scaler.inverse_transform(train_predict)\n",
    "    test_predict = scaler.inverse_transform(test_predict)\n",
    "\n",
    "    # calculate RMSE of training and testing data\n",
    "    train_RMSE = math.sqrt(mean_squared_error(scaler.inverse_transform(Y_train.reshape(-1, 1)),train_predict))\n",
    "    test_RMSE = math.sqrt(mean_squared_error(scaler.inverse_transform(Y_test.reshape(-1, 1)),test_predict))\n",
    "    \n",
    "    # store all the results into a dictionary\n",
    "    perf_dict[str(perf_sum['units'])+' '+str(perf_sum['learning_rate'])] = [train_RMSE,test_RMSE]\n",
    "    f.close()\n",
    "    \n",
    "perf_dict"
   ]
  },
  {
   "cell_type": "code",
   "execution_count": 138,
   "metadata": {},
   "outputs": [
    {
     "data": {
      "image/png": "[encoded data removed]",
      "text/plain": [
       "<Figure size 432x288 with 1 Axes>"
      ]
     },
     "metadata": {
      "needs_background": "light"
     },
     "output_type": "display_data"
    }
   ],
   "source": [
    "plt.plot(scaler.inverse_transform(test_data[timestep:]), color = 'red', label = 'Real Google Stock Price')\n",
    "plt.plot(test_predict, color = 'blue', label = 'Predicted Google Stock Price')\n",
    "plt.title('Google Stock Price Prediction')\n",
    "plt.xlabel('Time')\n",
    "plt.ylabel('Google Stock Price')\n",
    "plt.legend()\n",
    "plt.show()"
   ]
  }
 ],
 "metadata": {
  "kernelspec": {
   "display_name": "Python 3",
   "language": "python",
   "name": "python3"
  },
  "language_info": {
   "codemirror_mode": {
    "name": "ipython",
    "version": 3
   },
   "file_extension": ".py",
   "mimetype": "text/x-python",
   "name": "python",
   "nbconvert_exporter": "python",
   "pygments_lexer": "ipython3",
   "version": "3.7.4"
  }
 },
 "nbformat": 4,
 "nbformat_minor": 2
}
